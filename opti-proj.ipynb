{
 "cells": [
  {
   "cell_type": "code",
   "execution_count": 1,
   "metadata": {},
   "outputs": [
    {
     "name": "stdout",
     "output_type": "stream",
     "text": [
      "Collecting kagglehub\n",
      "  Downloading kagglehub-0.3.13-py3-none-any.whl.metadata (38 kB)\n",
      "Requirement already satisfied: packaging in /Users/isaiah/aetos/lib/python3.12/site-packages (from kagglehub) (24.2)\n",
      "Requirement already satisfied: pyyaml in /Users/isaiah/aetos/lib/python3.12/site-packages (from kagglehub) (6.0.2)\n",
      "Requirement already satisfied: requests in /Users/isaiah/aetos/lib/python3.12/site-packages (from kagglehub) (2.32.3)\n",
      "Requirement already satisfied: tqdm in /Users/isaiah/aetos/lib/python3.12/site-packages (from kagglehub) (4.67.1)\n",
      "Requirement already satisfied: charset-normalizer<4,>=2 in /Users/isaiah/aetos/lib/python3.12/site-packages (from requests->kagglehub) (3.4.1)\n",
      "Requirement already satisfied: idna<4,>=2.5 in /Users/isaiah/aetos/lib/python3.12/site-packages (from requests->kagglehub) (3.10)\n",
      "Requirement already satisfied: urllib3<3,>=1.21.1 in /Users/isaiah/aetos/lib/python3.12/site-packages (from requests->kagglehub) (2.3.0)\n",
      "Requirement already satisfied: certifi>=2017.4.17 in /Users/isaiah/aetos/lib/python3.12/site-packages (from requests->kagglehub) (2025.1.31)\n",
      "Downloading kagglehub-0.3.13-py3-none-any.whl (68 kB)\n",
      "Installing collected packages: kagglehub\n",
      "Successfully installed kagglehub-0.3.13\n",
      "\n",
      "\u001b[1m[\u001b[0m\u001b[34;49mnotice\u001b[0m\u001b[1;39;49m]\u001b[0m\u001b[39;49m A new release of pip is available: \u001b[0m\u001b[31;49m25.0\u001b[0m\u001b[39;49m -> \u001b[0m\u001b[32;49m25.2\u001b[0m\n",
      "\u001b[1m[\u001b[0m\u001b[34;49mnotice\u001b[0m\u001b[1;39;49m]\u001b[0m\u001b[39;49m To update, run: \u001b[0m\u001b[32;49mpip install --upgrade pip\u001b[0m\n",
      "Downloading from https://www.kaggle.com/api/v1/datasets/download/shivamb/company-acquisitions-7-top-companies?dataset_version_number=1...\n"
     ]
    },
    {
     "name": "stderr",
     "output_type": "stream",
     "text": [
      "100%|██████████| 22.7k/22.7k [00:00<00:00, 5.80MB/s]"
     ]
    },
    {
     "name": "stdout",
     "output_type": "stream",
     "text": [
      "Extracting files...\n",
      "Path to dataset files: /Users/isaiah/.cache/kagglehub/datasets/shivamb/company-acquisitions-7-top-companies/versions/1\n"
     ]
    },
    {
     "name": "stderr",
     "output_type": "stream",
     "text": [
      "\n"
     ]
    }
   ],
   "source": [
    "!pip install kagglehub\n",
    "\n",
    "import kagglehub\n",
    "\n",
    "# Download selected version\n",
    "path = kagglehub.dataset_download(\"shivamb/company-acquisitions-7-top-companies/versions/1\")\n",
    "\n",
    "print(\"Path to dataset files:\", path)"
   ]
  },
  {
   "cell_type": "code",
   "execution_count": 4,
   "metadata": {},
   "outputs": [],
   "source": [
    "import pandas as pd"
   ]
  },
  {
   "cell_type": "code",
   "execution_count": 6,
   "metadata": {},
   "outputs": [
    {
     "data": {
      "text/html": [
       "<div>\n",
       "<style scoped>\n",
       "    .dataframe tbody tr th:only-of-type {\n",
       "        vertical-align: middle;\n",
       "    }\n",
       "\n",
       "    .dataframe tbody tr th {\n",
       "        vertical-align: top;\n",
       "    }\n",
       "\n",
       "    .dataframe thead th {\n",
       "        text-align: right;\n",
       "    }\n",
       "</style>\n",
       "<table border=\"1\" class=\"dataframe\">\n",
       "  <thead>\n",
       "    <tr style=\"text-align: right;\">\n",
       "      <th></th>\n",
       "      <th>AcquisitionID</th>\n",
       "      <th>AcquisitionMonth</th>\n",
       "      <th>AcquisitionMonthDate</th>\n",
       "      <th>AcquisitionYear</th>\n",
       "      <th>Company</th>\n",
       "      <th>Business</th>\n",
       "      <th>Country</th>\n",
       "      <th>Value (USD)</th>\n",
       "      <th>Derived products</th>\n",
       "      <th>ParentCompany</th>\n",
       "    </tr>\n",
       "  </thead>\n",
       "  <tbody>\n",
       "    <tr>\n",
       "      <th>0</th>\n",
       "      <td>ACQ99</td>\n",
       "      <td>November</td>\n",
       "      <td>11.0</td>\n",
       "      <td>2015</td>\n",
       "      <td>bebop</td>\n",
       "      <td>Cloud software</td>\n",
       "      <td>USA</td>\n",
       "      <td>380000000.0</td>\n",
       "      <td>Google Cloud Platform</td>\n",
       "      <td>Google</td>\n",
       "    </tr>\n",
       "    <tr>\n",
       "      <th>1</th>\n",
       "      <td>ACQ98</td>\n",
       "      <td>November</td>\n",
       "      <td>11.0</td>\n",
       "      <td>2015</td>\n",
       "      <td>Fly Labs</td>\n",
       "      <td>Video editing</td>\n",
       "      <td>USA</td>\n",
       "      <td>NaN</td>\n",
       "      <td>Google Photos</td>\n",
       "      <td>Google</td>\n",
       "    </tr>\n",
       "    <tr>\n",
       "      <th>2</th>\n",
       "      <td>ACQ97</td>\n",
       "      <td>December</td>\n",
       "      <td>8.0</td>\n",
       "      <td>2015</td>\n",
       "      <td>Clearleap</td>\n",
       "      <td>Cloud-based video management</td>\n",
       "      <td>USA</td>\n",
       "      <td>NaN</td>\n",
       "      <td>NaN</td>\n",
       "      <td>IBM</td>\n",
       "    </tr>\n",
       "    <tr>\n",
       "      <th>3</th>\n",
       "      <td>ACQ96</td>\n",
       "      <td>December</td>\n",
       "      <td>18.0</td>\n",
       "      <td>2015</td>\n",
       "      <td>Metanautix</td>\n",
       "      <td>Big Data Analytics</td>\n",
       "      <td>USA</td>\n",
       "      <td>NaN</td>\n",
       "      <td>NaN</td>\n",
       "      <td>Microsoft</td>\n",
       "    </tr>\n",
       "    <tr>\n",
       "      <th>4</th>\n",
       "      <td>ACQ95</td>\n",
       "      <td>December</td>\n",
       "      <td>21.0</td>\n",
       "      <td>2015</td>\n",
       "      <td>Talko, Inc.</td>\n",
       "      <td>Mobile communications</td>\n",
       "      <td>USA</td>\n",
       "      <td>NaN</td>\n",
       "      <td>NaN</td>\n",
       "      <td>Microsoft</td>\n",
       "    </tr>\n",
       "  </tbody>\n",
       "</table>\n",
       "</div>"
      ],
      "text/plain": [
       "  AcquisitionID AcquisitionMonth  AcquisitionMonthDate  AcquisitionYear  \\\n",
       "0         ACQ99         November                  11.0             2015   \n",
       "1         ACQ98         November                  11.0             2015   \n",
       "2         ACQ97         December                   8.0             2015   \n",
       "3         ACQ96         December                  18.0             2015   \n",
       "4         ACQ95         December                  21.0             2015   \n",
       "\n",
       "       Company                      Business Country  Value (USD)  \\\n",
       "0        bebop                Cloud software     USA  380000000.0   \n",
       "1     Fly Labs                 Video editing     USA          NaN   \n",
       "2    Clearleap  Cloud-based video management     USA          NaN   \n",
       "3   Metanautix            Big Data Analytics     USA          NaN   \n",
       "4  Talko, Inc.         Mobile communications     USA          NaN   \n",
       "\n",
       "        Derived products ParentCompany  \n",
       "0  Google Cloud Platform        Google  \n",
       "1          Google Photos        Google  \n",
       "2                    NaN           IBM  \n",
       "3                    NaN     Microsoft  \n",
       "4                    NaN     Microsoft  "
      ]
     },
     "execution_count": 6,
     "metadata": {},
     "output_type": "execute_result"
    }
   ],
   "source": [
    "acq_data = pd.read_csv(\"acquisitions.csv\")\n",
    "acq_data.head()"
   ]
  }
 ],
 "metadata": {
  "kernelspec": {
   "display_name": "Python (aetos)",
   "language": "python",
   "name": "aetos"
  },
  "language_info": {
   "codemirror_mode": {
    "name": "ipython",
    "version": 3
   },
   "file_extension": ".py",
   "mimetype": "text/x-python",
   "name": "python",
   "nbconvert_exporter": "python",
   "pygments_lexer": "ipython3",
   "version": "3.12.10"
  }
 },
 "nbformat": 4,
 "nbformat_minor": 2
}
